{
 "cells": [
  {
   "cell_type": "code",
   "execution_count": 263,
   "metadata": {},
   "outputs": [],
   "source": [
    "import tensorflow as tf\n",
    "from tensorflow import keras\n",
    "import matplotlib.pyplot as plt\n",
    "import numpy as np"
   ]
  },
  {
   "cell_type": "markdown",
   "metadata": {},
   "source": [
    "### Finding gradients (derivatives) of differentiable functions using GradientTape"
   ]
  },
  {
   "cell_type": "code",
   "execution_count": 264,
   "metadata": {},
   "outputs": [
    {
     "name": "stdout",
     "output_type": "stream",
     "text": [
      "tf.Tensor(\n",
      "[[ 0.9696452   0.12884374]\n",
      " [-0.21364185  0.43097642]], shape=(2, 2), dtype=float32)\n"
     ]
    }
   ],
   "source": [
    "a = tf.random.normal(shape=(2, 2))\n",
    "b = tf.random.normal(shape=(2, 2))\n",
    "\n",
    "with tf.GradientTape() as tape:\n",
    "    tape.watch(a) \n",
    "    c = tf.sqrt(tf.square(a) + tf.square(b))  \n",
    "    \n",
    "grads = tape.gradient(c, a)\n",
    "print(grads)"
   ]
  },
  {
   "cell_type": "code",
   "execution_count": 265,
   "metadata": {},
   "outputs": [
    {
     "data": {
      "text/plain": [
       "<tf.Tensor: shape=(2, 2), dtype=float32, numpy=\n",
       "array([[ 0.9696452 ,  0.12884374],\n",
       "       [-0.21364187,  0.43097642]], dtype=float32)>"
      ]
     },
     "execution_count": 265,
     "metadata": {},
     "output_type": "execute_result"
    }
   ],
   "source": [
    "a / tf.sqrt(tf.square(a) + tf.square(b))"
   ]
  },
  {
   "cell_type": "code",
   "execution_count": 266,
   "metadata": {},
   "outputs": [
    {
     "name": "stdout",
     "output_type": "stream",
     "text": [
      "tf.Tensor(0.5527726, shape=(), dtype=float32)\n"
     ]
    }
   ],
   "source": [
    "x = tf.random.normal(shape=())\n",
    "\n",
    "with tf.GradientTape() as tape:\n",
    "    tape.watch(x)\n",
    "    y = tf.sin(x) \n",
    "    \n",
    "grads = tape.gradient(y, x)\n",
    "print(grads)"
   ]
  },
  {
   "cell_type": "markdown",
   "metadata": {},
   "source": [
    "### Use GradientTape with loss function and backpropagation to update weights"
   ]
  },
  {
   "cell_type": "code",
   "execution_count": 267,
   "metadata": {},
   "outputs": [],
   "source": [
    "a = tf.random.uniform(shape=(4,2)) \n",
    "b = tf.random.uniform(shape=(4,2))\n",
    "c = tf.random.uniform(shape=(4,2))\n",
    "d = tf.random.uniform(shape=(4,2))\n",
    "\n",
    "a = tf.Variable(a)\n",
    "b = tf.Variable(b)\n",
    "c = tf.Variable(c)\n",
    "d = tf.Variable(d)"
   ]
  },
  {
   "cell_type": "code",
   "execution_count": 268,
   "metadata": {},
   "outputs": [],
   "source": [
    "x = tf.random.normal(shape=(4,2))"
   ]
  },
  {
   "cell_type": "code",
   "execution_count": 269,
   "metadata": {},
   "outputs": [],
   "source": [
    "loss_function = keras.losses.MeanSquaredError()\n",
    "optimizer = keras.optimizers.SGD(learning_rate=1e-3)\n",
    "\n",
    "for i in range(10000):\n",
    "    with tf.GradientTape() as tape:\n",
    "        tape.watch(x)\n",
    "        y = tf.sin(x) \n",
    "        y_pred = a + b*x + c*x**2 + d*x**3\n",
    "        loss = loss_function(y_pred, y)\n",
    "        grads = tape.gradient(loss, [a,b,c,d])\n",
    "        optimizer.apply_gradients(zip(grads, [a,b,c,d]))"
   ]
  },
  {
   "cell_type": "code",
   "execution_count": 270,
   "metadata": {},
   "outputs": [
    {
     "name": "stdout",
     "output_type": "stream",
     "text": [
      "tf.Tensor(\n",
      "[[-0.662019    0.01417505]\n",
      " [-0.23739554 -0.36533085]\n",
      " [ 0.6088554  -0.05569623]\n",
      " [-0.54483896  0.05589948]], shape=(4, 2), dtype=float32) tf.Tensor(\n",
      "[[-0.66201854 -0.05191602]\n",
      " [-0.2774748  -0.42175078]\n",
      " [ 0.58992594 -0.12379215]\n",
      " [-0.5692844   0.03019659]], shape=(4, 2), dtype=float32)\n"
     ]
    }
   ],
   "source": [
    "print(y_pred, y)"
   ]
  },
  {
   "cell_type": "code",
   "execution_count": 271,
   "metadata": {},
   "outputs": [
    {
     "data": {
      "text/plain": [
       "<tf.Tensor: shape=(4, 2), dtype=float32, numpy=\n",
       "array([[-2.418084  , -0.05193937],\n",
       "       [-0.28116468, -0.43537536],\n",
       "       [ 0.63096714, -0.12411053],\n",
       "       [-0.60563517,  0.03020118]], dtype=float32)>"
      ]
     },
     "execution_count": 271,
     "metadata": {},
     "output_type": "execute_result"
    }
   ],
   "source": [
    "x"
   ]
  },
  {
   "cell_type": "code",
   "execution_count": 274,
   "metadata": {},
   "outputs": [
    {
     "data": {
      "text/plain": [
       "<tf.Tensor: shape=(4, 2), dtype=float32, numpy=\n",
       "array([[-0.66201854, -0.05191602],\n",
       "       [-0.2774748 , -0.42175078],\n",
       "       [ 0.58992594, -0.12379215],\n",
       "       [-0.5692844 ,  0.03019659]], dtype=float32)>"
      ]
     },
     "execution_count": 274,
     "metadata": {},
     "output_type": "execute_result"
    }
   ],
   "source": [
    "tf.sin(x)"
   ]
  },
  {
   "cell_type": "code",
   "execution_count": null,
   "metadata": {},
   "outputs": [],
   "source": []
  },
  {
   "cell_type": "code",
   "execution_count": null,
   "metadata": {},
   "outputs": [],
   "source": []
  }
 ],
 "metadata": {
  "kernelspec": {
   "display_name": "Python 3",
   "language": "python",
   "name": "python3"
  },
  "language_info": {
   "codemirror_mode": {
    "name": "ipython",
    "version": 3
   },
   "file_extension": ".py",
   "mimetype": "text/x-python",
   "name": "python",
   "nbconvert_exporter": "python",
   "pygments_lexer": "ipython3",
   "version": "3.8.5"
  }
 },
 "nbformat": 4,
 "nbformat_minor": 4
}
