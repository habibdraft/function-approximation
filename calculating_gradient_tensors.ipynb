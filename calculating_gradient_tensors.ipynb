{
 "cells": [
  {
   "cell_type": "code",
   "execution_count": 1,
   "id": "3229e102",
   "metadata": {},
   "outputs": [],
   "source": [
    "import tensorflow as tf\n",
    "from tensorflow import keras"
   ]
  },
  {
   "cell_type": "code",
   "execution_count": 2,
   "id": "ca56bdea",
   "metadata": {},
   "outputs": [
    {
     "name": "stdout",
     "output_type": "stream",
     "text": [
      "tf.Tensor(\n",
      "[[-0.5955604  0.5046168]\n",
      " [ 0.5017506  0.9406151]], shape=(2, 2), dtype=float32)\n"
     ]
    }
   ],
   "source": [
    "a = tf.random.normal(shape=(2, 2))\n",
    "b = tf.random.normal(shape=(2, 2))\n",
    "\n",
    "with tf.GradientTape() as tape:\n",
    "    tape.watch(a) \n",
    "    c = tf.sqrt(tf.square(a) + tf.square(b))  # Do some math using `a`\n",
    "    dc_da = tape.gradient(c, a)\n",
    "    print(dc_da)"
   ]
  },
  {
   "cell_type": "code",
   "execution_count": 3,
   "id": "36d308e8",
   "metadata": {},
   "outputs": [
    {
     "data": {
      "text/plain": [
       "<tf.Tensor: shape=(2, 2), dtype=float32, numpy=\n",
       "array([[-0.5955604 ,  0.5046168 ],\n",
       "       [ 0.5017506 ,  0.94061506]], dtype=float32)>"
      ]
     },
     "execution_count": 3,
     "metadata": {},
     "output_type": "execute_result"
    }
   ],
   "source": [
    "a / tf.sqrt(tf.square(a) + tf.square(b))"
   ]
  },
  {
   "cell_type": "code",
   "execution_count": 4,
   "id": "ced20247",
   "metadata": {},
   "outputs": [
    {
     "name": "stdout",
     "output_type": "stream",
     "text": [
      "tf.Tensor(\n",
      "[[0.5635156  0.83611655]\n",
      " [0.3726832  0.6570135 ]], shape=(2, 2), dtype=float32)\n"
     ]
    }
   ],
   "source": [
    "x = tf.random.normal(shape=(2, 2))\n",
    "\n",
    "with tf.GradientTape() as tape:\n",
    "    tape.watch(x)\n",
    "    y = tf.sin(x) \n",
    "    \n",
    "grads = tape.gradient(y, x)\n",
    "print(grads)"
   ]
  },
  {
   "cell_type": "code",
   "execution_count": 5,
   "id": "fa233b0c",
   "metadata": {},
   "outputs": [
    {
     "name": "stdout",
     "output_type": "stream",
     "text": [
      "tf.Tensor(\n",
      "[[0.5635156  0.83611655]\n",
      " [0.3726832  0.6570135 ]], shape=(2, 2), dtype=float32)\n"
     ]
    }
   ],
   "source": [
    "a = tf.random.uniform(shape=[]) \n",
    "b = tf.random.uniform(shape=[])\n",
    "c = tf.random.uniform(shape=[])\n",
    "d = tf.random.uniform(shape=[])\n",
    "\n",
    "loss_function = keras.losses.MeanSquaredError()\n",
    "\n",
    "with tf.GradientTape() as tape:\n",
    "    tape.watch(x)\n",
    "    y = tf.sin(x) \n",
    "    y_pred = a + b*x + c*x**2 + d*x**3\n",
    "    loss = loss_function(y_pred, y)\n",
    "    grads = tape.gradient(y, x)\n",
    "print(grads)"
   ]
  },
  {
   "cell_type": "code",
   "execution_count": 6,
   "id": "b8e85376",
   "metadata": {},
   "outputs": [
    {
     "data": {
      "text/plain": [
       "<tf.Tensor: shape=(2, 2), dtype=float32, numpy=\n",
       "array([[0.5635156 , 0.83611655],\n",
       "       [0.3726832 , 0.6570135 ]], dtype=float32)>"
      ]
     },
     "execution_count": 6,
     "metadata": {},
     "output_type": "execute_result"
    }
   ],
   "source": [
    "tf.cos(x)"
   ]
  },
  {
   "cell_type": "code",
   "execution_count": null,
   "id": "abf31989",
   "metadata": {},
   "outputs": [],
   "source": []
  }
 ],
 "metadata": {
  "kernelspec": {
   "display_name": "Python 3 (ipykernel)",
   "language": "python",
   "name": "python3"
  },
  "language_info": {
   "codemirror_mode": {
    "name": "ipython",
    "version": 3
   },
   "file_extension": ".py",
   "mimetype": "text/x-python",
   "name": "python",
   "nbconvert_exporter": "python",
   "pygments_lexer": "ipython3",
   "version": "3.10.12"
  }
 },
 "nbformat": 4,
 "nbformat_minor": 5
}
