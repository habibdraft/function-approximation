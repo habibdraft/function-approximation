{
 "cells": [
  {
   "cell_type": "code",
   "execution_count": 9,
   "metadata": {},
   "outputs": [],
   "source": [
    "import tensorflow as tf\n",
    "from tensorflow import keras\n",
    "import matplotlib.pyplot as plt\n",
    "import numpy as np"
   ]
  },
  {
   "cell_type": "markdown",
   "metadata": {},
   "source": [
    "### Finding gradients (derivatives) of differentiable functions using GradientTape"
   ]
  },
  {
   "cell_type": "code",
   "execution_count": 10,
   "metadata": {},
   "outputs": [
    {
     "name": "stdout",
     "output_type": "stream",
     "text": [
      "tf.Tensor(\n",
      "[[-0.705473    0.9511604 ]\n",
      " [-0.32963067 -0.95702183]], shape=(2, 2), dtype=float32)\n"
     ]
    }
   ],
   "source": [
    "a = tf.random.normal(shape=(2, 2))\n",
    "b = tf.random.normal(shape=(2, 2))\n",
    "\n",
    "with tf.GradientTape() as tape:\n",
    "    tape.watch(a) \n",
    "    c = tf.sqrt(tf.square(a) + tf.square(b))  \n",
    "    \n",
    "grads = tape.gradient(c, a)\n",
    "print(grads)"
   ]
  },
  {
   "cell_type": "code",
   "execution_count": 11,
   "metadata": {},
   "outputs": [
    {
     "data": {
      "text/plain": [
       "<tf.Tensor: shape=(2, 2), dtype=float32, numpy=\n",
       "array([[-0.705473  ,  0.9511604 ],\n",
       "       [-0.32963067, -0.95702183]], dtype=float32)>"
      ]
     },
     "execution_count": 11,
     "metadata": {},
     "output_type": "execute_result"
    }
   ],
   "source": [
    "a / tf.sqrt(tf.square(a) + tf.square(b))"
   ]
  },
  {
   "cell_type": "code",
   "execution_count": 12,
   "metadata": {},
   "outputs": [
    {
     "name": "stdout",
     "output_type": "stream",
     "text": [
      "tf.Tensor(0.4512346, shape=(), dtype=float32) tf.Tensor(0.4512346, shape=(), dtype=float32)\n"
     ]
    }
   ],
   "source": [
    "x = tf.random.normal(shape=())\n",
    "\n",
    "with tf.GradientTape() as tape:\n",
    "    tape.watch(x)\n",
    "    y = tf.sin(x) \n",
    "    \n",
    "grads = tape.gradient(y, x)\n",
    "print(grads, tf.cos(x))"
   ]
  },
  {
   "cell_type": "markdown",
   "metadata": {},
   "source": [
    "### Use GradientTape with loss function and backpropagation to update weights"
   ]
  },
  {
   "cell_type": "code",
   "execution_count": 13,
   "metadata": {},
   "outputs": [],
   "source": [
    "a = tf.random.uniform(shape=(4,2)) \n",
    "b = tf.random.uniform(shape=(4,2))\n",
    "c = tf.random.uniform(shape=(4,2))\n",
    "d = tf.random.uniform(shape=(4,2))\n",
    "\n",
    "a = tf.Variable(a)\n",
    "b = tf.Variable(b)\n",
    "c = tf.Variable(c)\n",
    "d = tf.Variable(d)"
   ]
  },
  {
   "cell_type": "code",
   "execution_count": 14,
   "metadata": {},
   "outputs": [],
   "source": [
    "x = tf.random.normal(shape=(4,2))"
   ]
  },
  {
   "cell_type": "code",
   "execution_count": 15,
   "metadata": {},
   "outputs": [],
   "source": [
    "loss_function = keras.losses.MeanSquaredError()\n",
    "optimizer = keras.optimizers.SGD(learning_rate=1e-3)\n",
    "\n",
    "for i in range(10000):\n",
    "    with tf.GradientTape() as tape:\n",
    "        tape.watch(x)\n",
    "        y = tf.sin(x) \n",
    "        y_pred = a + b*x + c*x**2 + d*x**3\n",
    "        loss = loss_function(y_pred, y)\n",
    "        grads = tape.gradient(loss, [a,b,c,d])\n",
    "        optimizer.apply_gradients(zip(grads, [a,b,c,d]))"
   ]
  },
  {
   "cell_type": "code",
   "execution_count": 16,
   "metadata": {},
   "outputs": [
    {
     "name": "stdout",
     "output_type": "stream",
     "text": [
      "tf.Tensor(\n",
      "[[ 0.33441463 -0.9899305 ]\n",
      " [ 0.4665886   0.6242594 ]\n",
      " [ 0.9956882   0.77353823]\n",
      " [ 0.16524284  0.27180862]], shape=(4, 2), dtype=float32) tf.Tensor(\n",
      "[[ 0.31865507 -0.9899323 ]\n",
      " [ 0.4341314   0.6105607 ]\n",
      " [ 0.99568594  0.7730677 ]\n",
      " [ 0.10354258  0.23933877]], shape=(4, 2), dtype=float32)\n"
     ]
    }
   ],
   "source": [
    "print(y_pred, y)"
   ]
  },
  {
   "cell_type": "code",
   "execution_count": 17,
   "metadata": {},
   "outputs": [
    {
     "data": {
      "text/plain": [
       "<tf.Tensor: shape=(4, 2), dtype=float32, numpy=\n",
       "array([[ 0.31865507, -0.9899323 ],\n",
       "       [ 0.4341314 ,  0.6105607 ],\n",
       "       [ 0.99568594,  0.7730677 ],\n",
       "       [ 0.10354258,  0.23933877]], dtype=float32)>"
      ]
     },
     "execution_count": 17,
     "metadata": {},
     "output_type": "execute_result"
    }
   ],
   "source": [
    "tf.sin(x)"
   ]
  },
  {
   "cell_type": "code",
   "execution_count": null,
   "metadata": {},
   "outputs": [],
   "source": []
  },
  {
   "cell_type": "code",
   "execution_count": null,
   "metadata": {},
   "outputs": [],
   "source": []
  }
 ],
 "metadata": {
  "kernelspec": {
   "display_name": "Python 3",
   "language": "python",
   "name": "python3"
  },
  "language_info": {
   "codemirror_mode": {
    "name": "ipython",
    "version": 3
   },
   "file_extension": ".py",
   "mimetype": "text/x-python",
   "name": "python",
   "nbconvert_exporter": "python",
   "pygments_lexer": "ipython3",
   "version": "3.8.5"
  }
 },
 "nbformat": 4,
 "nbformat_minor": 4
}
