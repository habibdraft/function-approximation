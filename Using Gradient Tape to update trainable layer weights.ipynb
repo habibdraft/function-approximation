{
 "cells": [
  {
   "cell_type": "code",
   "execution_count": 19,
   "metadata": {},
   "outputs": [],
   "source": [
    "import numpy as np\n",
    "import math\n",
    "import random\n",
    "import matplotlib\n",
    "import matplotlib.pyplot as plt\n",
    "from itertools import count\n",
    "\n",
    "import tensorflow as tf\n",
    "from tensorflow import keras\n",
    "from tensorflow.keras import layers"
   ]
  },
  {
   "cell_type": "markdown",
   "metadata": {},
   "source": [
    "### Find gradients (derivatives) of differentiable functions using GradientTape"
   ]
  },
  {
   "cell_type": "code",
   "execution_count": 20,
   "metadata": {},
   "outputs": [
    {
     "name": "stdout",
     "output_type": "stream",
     "text": [
      "tf.Tensor(\n",
      "[[-0.41719413 -0.8246322 ]\n",
      " [-0.89293253  0.91085553]], shape=(2, 2), dtype=float32)\n"
     ]
    }
   ],
   "source": [
    "a = tf.random.normal(shape=(2, 2))\n",
    "b = tf.random.normal(shape=(2, 2))\n",
    "\n",
    "with tf.GradientTape() as tape:\n",
    "    tape.watch(a) \n",
    "    c = tf.sqrt(tf.square(a) + tf.square(b))  \n",
    "    \n",
    "grads = tape.gradient(c, a)\n",
    "print(grads)"
   ]
  },
  {
   "cell_type": "markdown",
   "metadata": {},
   "source": [
    "### Check result against derivative of function"
   ]
  },
  {
   "cell_type": "code",
   "execution_count": 21,
   "metadata": {},
   "outputs": [
    {
     "data": {
      "text/plain": [
       "<tf.Tensor: shape=(2, 2), dtype=float32, numpy=\n",
       "array([[-0.41719413, -0.8246322 ],\n",
       "       [-0.89293253,  0.9108555 ]], dtype=float32)>"
      ]
     },
     "execution_count": 21,
     "metadata": {},
     "output_type": "execute_result"
    }
   ],
   "source": [
    "a / tf.sqrt(tf.square(a) + tf.square(b))"
   ]
  },
  {
   "cell_type": "markdown",
   "metadata": {},
   "source": [
    "### Repeat with sin x and cos x"
   ]
  },
  {
   "cell_type": "code",
   "execution_count": 22,
   "metadata": {},
   "outputs": [
    {
     "name": "stdout",
     "output_type": "stream",
     "text": [
      "tf.Tensor(0.94859457, shape=(), dtype=float32) tf.Tensor(0.94859457, shape=(), dtype=float32)\n"
     ]
    }
   ],
   "source": [
    "x = tf.random.normal(shape=())\n",
    "\n",
    "with tf.GradientTape() as tape:\n",
    "    tape.watch(x)\n",
    "    y = tf.sin(x) \n",
    "    \n",
    "grads = tape.gradient(y, x)\n",
    "print(grads, tf.cos(x))"
   ]
  },
  {
   "cell_type": "markdown",
   "metadata": {},
   "source": [
    "### Derivative with respect to a and b"
   ]
  },
  {
   "cell_type": "code",
   "execution_count": 23,
   "metadata": {},
   "outputs": [
    {
     "name": "stdout",
     "output_type": "stream",
     "text": [
      "[<tf.Tensor: shape=(2, 2), dtype=float32, numpy=\n",
      "array([[ 0.20429626,  0.6940333 ],\n",
      "       [-0.7589702 ,  0.9915183 ]], dtype=float32)>, <tf.Tensor: shape=(2, 2), dtype=float32, numpy=\n",
      "array([[-0.9789092 ,  0.71994287],\n",
      "       [ 0.6511253 , -0.12996784]], dtype=float32)>]\n",
      "tf.Tensor(\n",
      "[[ 0.20429625  0.6940333 ]\n",
      " [-0.7589702   0.99151826]], shape=(2, 2), dtype=float32)\n",
      "tf.Tensor(\n",
      "[[-0.97890913  0.71994287]\n",
      " [ 0.6511253  -0.12996784]], shape=(2, 2), dtype=float32)\n"
     ]
    }
   ],
   "source": [
    "a = tf.random.normal(shape=(2, 2))\n",
    "b = tf.random.normal(shape=(2, 2))\n",
    "\n",
    "with tf.GradientTape() as tape:\n",
    "    tape.watch([a, b]) \n",
    "    c = tf.sqrt(tf.square(a) + tf.square(b))  \n",
    "    \n",
    "grads = tape.gradient(c, [a, b])\n",
    "\n",
    "print(grads)\n",
    "print(a / tf.sqrt(tf.square(a) + tf.square(b)))\n",
    "print(b / tf.sqrt(tf.square(a) + tf.square(b)))"
   ]
  },
  {
   "cell_type": "markdown",
   "metadata": {},
   "source": [
    "### Use GradientTape with loss function and backpropagation to update weights"
   ]
  },
  {
   "cell_type": "code",
   "execution_count": 24,
   "metadata": {},
   "outputs": [],
   "source": [
    "a = tf.random.uniform(shape=(4,2)) \n",
    "b = tf.random.uniform(shape=(4,2))\n",
    "c = tf.random.uniform(shape=(4,2))\n",
    "d = tf.random.uniform(shape=(4,2))\n",
    "\n",
    "a = tf.Variable(a)\n",
    "b = tf.Variable(b)\n",
    "c = tf.Variable(c)\n",
    "d = tf.Variable(d)"
   ]
  },
  {
   "cell_type": "markdown",
   "metadata": {},
   "source": [
    "### Generate x and y and run GradientTape with a, b, c, and d as weights"
   ]
  },
  {
   "cell_type": "code",
   "execution_count": 25,
   "metadata": {},
   "outputs": [],
   "source": [
    "x = tf.random.normal(shape=(4,2))"
   ]
  },
  {
   "cell_type": "code",
   "execution_count": 26,
   "metadata": {},
   "outputs": [],
   "source": [
    "loss_function = keras.losses.MeanSquaredError()\n",
    "optimizer = keras.optimizers.SGD(learning_rate=1e-3)\n",
    "\n",
    "for i in range(10000):\n",
    "    with tf.GradientTape() as tape:\n",
    "        tape.watch(x)\n",
    "        y = tf.sin(x) \n",
    "        y_pred = a + b*x + c*x**2 + d*x**3\n",
    "        loss = loss_function(y_pred, y)\n",
    "    grads = tape.gradient(loss, [a,b,c,d])\n",
    "    optimizer.apply_gradients(zip(grads, [a,b,c,d]))"
   ]
  },
  {
   "cell_type": "code",
   "execution_count": 27,
   "metadata": {},
   "outputs": [
    {
     "name": "stdout",
     "output_type": "stream",
     "text": [
      "tf.Tensor(\n",
      "[[ 0.73954475  0.9958941 ]\n",
      " [-0.11540518  0.36134112]\n",
      " [ 0.99766237 -0.8624366 ]\n",
      " [ 0.68297184 -0.08792038]], shape=(4, 2), dtype=float32) tf.Tensor(\n",
      "[[ 0.7367965   0.9958812 ]\n",
      " [-0.15534252  0.32845432]\n",
      " [ 0.9976536  -0.86250705]\n",
      " [ 0.68260336 -0.09918554]], shape=(4, 2), dtype=float32)\n"
     ]
    }
   ],
   "source": [
    "print(y_pred, y)"
   ]
  },
  {
   "cell_type": "markdown",
   "metadata": {},
   "source": [
    "### Use Keras layer with GradientTape and trainable weights"
   ]
  },
  {
   "cell_type": "code",
   "execution_count": 28,
   "metadata": {},
   "outputs": [],
   "source": [
    "class Linear(keras.layers.Layer):\n",
    "    \"\"\"y = w.x + b\"\"\"\n",
    "\n",
    "    def __init__(self, units=32):\n",
    "        super().__init__()\n",
    "        self.units = units\n",
    "\n",
    "    def build(self, input_shape):\n",
    "        self.w = self.add_weight(\n",
    "            shape=(input_shape[-1], self.units),\n",
    "            initializer=\"random_normal\",\n",
    "            trainable=True,\n",
    "        )\n",
    "        self.b = self.add_weight(\n",
    "            shape=(self.units,), initializer=\"random_normal\", trainable=True\n",
    "        )\n",
    "\n",
    "    def call(self, inputs):\n",
    "        return tf.matmul(inputs, self.w) + self.b\n",
    "\n",
    "linear_layer = Linear(2)"
   ]
  },
  {
   "cell_type": "code",
   "execution_count": 29,
   "metadata": {},
   "outputs": [],
   "source": [
    "x = tf.random.uniform(shape=(4,2))\n",
    "\n",
    "loss_function = keras.losses.MeanSquaredError()\n",
    "optimizer = keras.optimizers.SGD(learning_rate=1e-3)\n",
    "\n",
    "for i in range(10000):\n",
    "    with tf.GradientTape() as tape:\n",
    "        tape.watch(x)\n",
    "        y = tf.sqrt(x)\n",
    "        y_pred = linear_layer(x)\n",
    "        loss = loss_function(y_pred, y)\n",
    "    grads = tape.gradient(loss, linear_layer.trainable_weights)\n",
    "    optimizer.apply_gradients(zip(grads, linear_layer.trainable_weights))"
   ]
  },
  {
   "cell_type": "code",
   "execution_count": 30,
   "metadata": {},
   "outputs": [
    {
     "name": "stdout",
     "output_type": "stream",
     "text": [
      "tf.Tensor(\n",
      "[[0.26198223 0.27958876]\n",
      " [0.3467316  0.37732685]\n",
      " [0.25753865 0.27051944]\n",
      " [0.8441278  0.920033  ]], shape=(4, 2), dtype=float32) tf.Tensor(\n",
      "[[0.21049963 0.23852402]\n",
      " [0.36083207 0.45041516]\n",
      " [0.23989944 0.17581922]\n",
      " [0.87942374 0.9570649 ]], shape=(4, 2), dtype=float32)\n"
     ]
    }
   ],
   "source": [
    "print(y_pred, y)"
   ]
  },
  {
   "cell_type": "code",
   "execution_count": null,
   "metadata": {},
   "outputs": [],
   "source": []
  }
 ],
 "metadata": {
  "kernelspec": {
   "display_name": "Python 3",
   "language": "python",
   "name": "python3"
  },
  "language_info": {
   "codemirror_mode": {
    "name": "ipython",
    "version": 3
   },
   "file_extension": ".py",
   "mimetype": "text/x-python",
   "name": "python",
   "nbconvert_exporter": "python",
   "pygments_lexer": "ipython3",
   "version": "3.8.5"
  }
 },
 "nbformat": 4,
 "nbformat_minor": 4
}
