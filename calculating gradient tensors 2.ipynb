{
 "cells": [
  {
   "cell_type": "code",
   "execution_count": null,
   "id": "3398fe7d",
   "metadata": {},
   "outputs": [],
   "source": [
    "import numpy as np\n",
    "import math\n",
    "import random\n",
    "import pandas as pd\n",
    "import tensorflow as tf\n",
    "from tensorflow import keras\n",
    "import matplotlib.pyplot as plt"
   ]
  },
  {
   "cell_type": "markdown",
   "id": "295b5086",
   "metadata": {},
   "source": [
    "### Create a linear layer class in Keras"
   ]
  },
  {
   "cell_type": "code",
   "execution_count": null,
   "id": "aea887e5",
   "metadata": {},
   "outputs": [],
   "source": [
    "class Linear(keras.layers.Layer):\n",
    "    \n",
    "    def __init__(self, units=32, input_dim=32):\n",
    "        super().__init__()\n",
    "        self.w = self.add_weight(shape=(input_dim, units), initializer='random_normal', trainable=True)\n",
    "        self.b = self.add_weight(shape=(units, ), initializer='zeros', trainable=True)\n",
    "        \n",
    "    def call(self, inputs):\n",
    "        return tf.matmul(inputs, self.w) + self.b"
   ]
  },
  {
   "cell_type": "code",
   "execution_count": null,
   "id": "699e6031",
   "metadata": {},
   "outputs": [],
   "source": [
    "tf.ones((2,2))"
   ]
  },
  {
   "cell_type": "code",
   "execution_count": null,
   "id": "360dedb5",
   "metadata": {},
   "outputs": [],
   "source": [
    "linear_layer = Linear(4,2)"
   ]
  },
  {
   "cell_type": "code",
   "execution_count": null,
   "id": "47b067cb",
   "metadata": {},
   "outputs": [],
   "source": [
    "linear_layer(tf.ones((2,2)))"
   ]
  },
  {
   "cell_type": "markdown",
   "id": "f93b229b",
   "metadata": {},
   "source": [
    "### Use build method to avoid having to specify input_dim"
   ]
  },
  {
   "cell_type": "code",
   "execution_count": null,
   "id": "09bd88d3",
   "metadata": {},
   "outputs": [],
   "source": [
    "class Linear(keras.layers.Layer):\n",
    "    \n",
    "    def __init__(self, units=32):\n",
    "        super().__init__()\n",
    "        self.units = units\n",
    "        \n",
    "    def build(self, input_shape):\n",
    "        self.w = self.add_weight(shape=(input_shape[-1], self.units), initializer='random_normal', trainable=True)\n",
    "        self.b = self.add_weight(shape=(self.units, ), initializer='zeros', trainable=True)\n",
    "        \n",
    "    def call(self, inputs):\n",
    "        return tf.matmul(inputs, self.w) + self.b"
   ]
  },
  {
   "cell_type": "code",
   "execution_count": null,
   "id": "6388532f",
   "metadata": {},
   "outputs": [],
   "source": [
    "class MLP(keras.layers.Layer):\n",
    "    \n",
    "    def __init__(self):\n",
    "        super().__init__()\n",
    "        self.linear_1 = Linear(32)\n",
    "        self.linear_2 = Linear(32)\n",
    "        self.linear_3 = Linear(10)\n",
    "        \n",
    "    def call(self, inputs):\n",
    "        x = self.linear_1(inputs)\n",
    "        x = tf.nn.relu(x)\n",
    "        x = self.linear_2(x)\n",
    "        x = tf.nn.relu(x)\n",
    "        return self.linear_3(x)"
   ]
  },
  {
   "cell_type": "code",
   "execution_count": null,
   "id": "cdd7a835",
   "metadata": {},
   "outputs": [],
   "source": [
    "#get maximum column value of each row"
   ]
  },
  {
   "cell_type": "code",
   "execution_count": null,
   "id": "683ba0f9",
   "metadata": {},
   "outputs": [],
   "source": [
    "mlp = MLP()"
   ]
  },
  {
   "cell_type": "code",
   "execution_count": null,
   "id": "aee5e129",
   "metadata": {},
   "outputs": [],
   "source": [
    "y = mlp(tf.ones((2,2)))"
   ]
  },
  {
   "cell_type": "code",
   "execution_count": null,
   "id": "49ba1e8c",
   "metadata": {},
   "outputs": [],
   "source": [
    "y"
   ]
  },
  {
   "cell_type": "code",
   "execution_count": null,
   "id": "767b713a",
   "metadata": {},
   "outputs": [],
   "source": [
    "class ActivityRegularization(keras.layers.Layer):\n",
    "    \n",
    "    def __init__(self, rate=1e-2):\n",
    "        super().__init__()\n",
    "        self.rate = rate\n",
    "    \n",
    "    def call(self, inputs):\n",
    "        self.add_loss(self.rate * tf.reduce_sum(inputs))\n",
    "        return inputs"
   ]
  },
  {
   "cell_type": "code",
   "execution_count": null,
   "id": "e96007df",
   "metadata": {},
   "outputs": [],
   "source": [
    "tf.reduce_sum(tf.ones((14,10)))"
   ]
  },
  {
   "cell_type": "code",
   "execution_count": null,
   "id": "67f6db10",
   "metadata": {},
   "outputs": [],
   "source": [
    "mlp.losses"
   ]
  },
  {
   "cell_type": "code",
   "execution_count": null,
   "id": "5ac4155c",
   "metadata": {},
   "outputs": [],
   "source": [
    "class SparseMLP(keras.layers.Layer):\n",
    "    \n",
    "    def __init__(self):\n",
    "        super().__init__()\n",
    "        self.linear_1 = Linear(128)\n",
    "        self.regularization = ActivityRegularization(1e-2)\n",
    "        self.linear_3 = Linear(2)\n",
    "    \n",
    "    def call(self, inputs):\n",
    "        x = self.linear_1(inputs)\n",
    "        x = tf.nn.relu(x)\n",
    "        x = self.regularization(x)\n",
    "        return self.linear_3(x)"
   ]
  },
  {
   "cell_type": "code",
   "execution_count": null,
   "id": "09aaedb1",
   "metadata": {},
   "outputs": [],
   "source": [
    "mlp = SparseMLP()\n",
    "y = mlp(tf.ones((200, 4)))"
   ]
  },
  {
   "cell_type": "code",
   "execution_count": null,
   "id": "211bcbba",
   "metadata": {},
   "outputs": [],
   "source": [
    "mlp.losses"
   ]
  },
  {
   "cell_type": "code",
   "execution_count": null,
   "id": "28d1c894",
   "metadata": {},
   "outputs": [],
   "source": [
    "# write training loop for sparse mlp\n",
    "# get dataset\n",
    "\n",
    "# DQN\n",
    "# collect transitions and go through network update process\n",
    "# get max value of state-action pairs"
   ]
  },
  {
   "cell_type": "code",
   "execution_count": null,
   "id": "7af70d11",
   "metadata": {},
   "outputs": [],
   "source": [
    "(X_train, y_train), _ = keras.datasets.mnist.load_data()"
   ]
  },
  {
   "cell_type": "code",
   "execution_count": null,
   "id": "ff6df10a",
   "metadata": {},
   "outputs": [],
   "source": [
    "dataset = tf.data.Dataset.from_tensor_slices(\n",
    "    (X_train.reshape(60000, 784).astype('float32') / 255, y_train)\n",
    ")\n",
    "dataset = dataset.shuffle(buffer_size=1024).batch(64)"
   ]
  },
  {
   "cell_type": "code",
   "execution_count": null,
   "id": "abb9286a",
   "metadata": {},
   "outputs": [],
   "source": [
    "dataset"
   ]
  },
  {
   "cell_type": "code",
   "execution_count": null,
   "id": "10e671d7",
   "metadata": {},
   "outputs": [],
   "source": [
    "# access different elements of dataset\n",
    "# get dataset of Transitions"
   ]
  },
  {
   "cell_type": "code",
   "execution_count": null,
   "id": "e9991d51",
   "metadata": {},
   "outputs": [],
   "source": [
    "linear_layer = Linear(10)"
   ]
  },
  {
   "cell_type": "code",
   "execution_count": null,
   "id": "0463741d",
   "metadata": {},
   "outputs": [],
   "source": [
    "loss_fn = keras.losses.SparseCategoricalCrossentropy(from_logits=True)\n",
    "optimizer = keras.optimizers.SGD(learning_rate=1e-3)"
   ]
  },
  {
   "cell_type": "code",
   "execution_count": null,
   "id": "de520c7b",
   "metadata": {},
   "outputs": [],
   "source": [
    "for step, (x, y) in enumerate(dataset):\n",
    "    with tf.GradientTape() as tape:\n",
    "        logits = linear_layer(x)\n",
    "        loss = loss_fn(y, logits)"
   ]
  },
  {
   "cell_type": "code",
   "execution_count": null,
   "id": "d92114de",
   "metadata": {},
   "outputs": [],
   "source": [
    "for step, (x, y) in enumerate(dataset):\n",
    "    print(step, x, y)"
   ]
  },
  {
   "cell_type": "code",
   "execution_count": null,
   "id": "34efb9b8",
   "metadata": {},
   "outputs": [],
   "source": [
    "# how can you use this to create a Q-function? "
   ]
  },
  {
   "cell_type": "code",
   "execution_count": null,
   "id": "8d775f87",
   "metadata": {},
   "outputs": [],
   "source": [
    "gradients = tape.gradient(loss, linear_layer.trainable_weights)"
   ]
  },
  {
   "cell_type": "code",
   "execution_count": null,
   "id": "3b33d7f4",
   "metadata": {},
   "outputs": [],
   "source": [
    "gradients"
   ]
  },
  {
   "cell_type": "code",
   "execution_count": null,
   "id": "8afeda3f",
   "metadata": {},
   "outputs": [],
   "source": [
    "optimizer.apply_gradients(zip(gradients, linear_layer.trainable_weights))"
   ]
  },
  {
   "cell_type": "code",
   "execution_count": null,
   "id": "dbe8dbb6",
   "metadata": {},
   "outputs": [],
   "source": [
    "tf.ones((5,12))"
   ]
  },
  {
   "cell_type": "code",
   "execution_count": null,
   "id": "7e1d98fc",
   "metadata": {},
   "outputs": [],
   "source": [
    "tf.random.normal((5, 12))"
   ]
  },
  {
   "cell_type": "code",
   "execution_count": null,
   "id": "9927d11e",
   "metadata": {},
   "outputs": [],
   "source": [
    "# get array/tensor as input to model\n",
    "tf.random.normal((303,5))"
   ]
  },
  {
   "cell_type": "code",
   "execution_count": null,
   "id": "03f96ffa",
   "metadata": {},
   "outputs": [],
   "source": [
    "def get_basic_model():\n",
    "    model = tf.keras.Sequential([\n",
    "    tf.keras.layers.Dense(10, activation='relu'),\n",
    "    tf.keras.layers.Dense(10, activation='relu'),\n",
    "    tf.keras.layers.Dense(1)\n",
    "  ])\n",
    "\n",
    "    model.compile(optimizer='adam',\n",
    "                loss=tf.keras.losses.BinaryCrossentropy(from_logits=True),\n",
    "                metrics=['accuracy'])\n",
    "    return model"
   ]
  },
  {
   "cell_type": "code",
   "execution_count": null,
   "id": "46b99e81",
   "metadata": {},
   "outputs": [],
   "source": [
    "model = get_basic_model()"
   ]
  },
  {
   "cell_type": "code",
   "execution_count": null,
   "id": "0056f6c7",
   "metadata": {},
   "outputs": [],
   "source": [
    "model.fit(tf.random.normal((303,5)), tf.random.normal((303,)), epochs=15, batch_size=128)"
   ]
  },
  {
   "cell_type": "code",
   "execution_count": null,
   "id": "6e331c55",
   "metadata": {},
   "outputs": [],
   "source": [
    "import tensorflow as tf\n",
    "import numpy as np\n",
    "from sklearn.model_selection import train_test_split\n",
    "\n",
    "X = np.random.random((5000,22))\n",
    "y = np.random.random((5000,1))\n",
    " \n",
    "X_train,X_test, y_train,y_test = train_test_split(X,y)\n",
    " \n",
    "dataset = tf.data.Dataset.from_tensor_slices((X_train, y_train))\n",
    "train_data = dataset.shuffle(len(X_train)).batch(32)\n",
    "train_data = train_data.prefetch(buffer_size=tf.data.experimental.AUTOTUNE)\n",
    " \n",
    "valid_ds = tf.data.Dataset.from_tensor_slices((X_test, y_test))\n",
    "valid_data = valid_ds.batch(32) \n",
    "\n",
    "def create_model():\n",
    "    tfkl = tf.keras.layers\n",
    "    inp = tf.keras.Input(shape=(2,))\n",
    "    x = tfkl.Dense(128, activation=\"linear\")(inp)\n",
    "    x = tfkl.Dense(64, activation=\"linear\")(x)\n",
    "    x = tfkl.Dense(1, activation=\"linear\")(x)\n",
    "    \n",
    "    model = tf.keras.models.Model(inp, x)\n",
    "    model.compile(loss=\"mae\", optimizer=\"adam\", metrics=[\"mae\"])\n",
    "    return model\n",
    "\n",
    "model=create_model()\n",
    "model.summary()\n",
    "\n",
    "model.fit(train_data, epochs=3, validation_data=valid_data) "
   ]
  },
  {
   "cell_type": "code",
   "execution_count": null,
   "id": "9452f078",
   "metadata": {},
   "outputs": [],
   "source": [
    "def get_basic_model():\n",
    "    model = tf.keras.Sequential([\n",
    "    tf.keras.Input(shape=(2,)),\n",
    "    tf.keras.layers.Dense(10, activation='relu'),\n",
    "    tf.keras.layers.Dense(10, activation='relu'),\n",
    "    tf.keras.layers.Dense(1)\n",
    "  ])\n",
    "\n",
    "    model.compile(optimizer='adam',\n",
    "                loss=tf.keras.losses.BinaryCrossentropy(from_logits=True),\n",
    "                metrics=['accuracy'])\n",
    "    return model\n",
    "\n",
    "model = get_basic_model()\n",
    "model.fit(tf.random.normal((300,22)), tf.random.normal((300,)), epochs=15, batch_size=128)"
   ]
  },
  {
   "cell_type": "code",
   "execution_count": null,
   "id": "9fc1b548",
   "metadata": {},
   "outputs": [],
   "source": [
    "x = tf.random.normal(shape=(2, 2))\n",
    "\n",
    "with tf.GradientTape() as tape:\n",
    "    tape.watch(x)\n",
    "    y = tf.sin(x) \n",
    "    grads = tape.gradient(y, x)\n",
    "    print(grads)"
   ]
  },
  {
   "cell_type": "code",
   "execution_count": null,
   "id": "06b240ae",
   "metadata": {},
   "outputs": [],
   "source": [
    "tf.cos(x)"
   ]
  },
  {
   "cell_type": "code",
   "execution_count": null,
   "id": "3f345dfc",
   "metadata": {},
   "outputs": [],
   "source": [
    "model.trainable_weights"
   ]
  },
  {
   "cell_type": "code",
   "execution_count": null,
   "id": "52c5c21b",
   "metadata": {},
   "outputs": [],
   "source": [
    "\n",
    "with tf.GradientTape() as tape:\n",
    "    tape.watch(x)\n",
    "    y = tf.sin(x) \n",
    "    grads = tape.gradient(y, x)\n",
    "    print(grads)"
   ]
  },
  {
   "cell_type": "code",
   "execution_count": null,
   "id": "9afe75bb",
   "metadata": {},
   "outputs": [],
   "source": [
    "loss_function = keras.losses.MeanSquaredError()\n",
    "optimizer = keras.optimizers.Adam(learning_rate=0.00025, clipnorm=1.0)\n",
    "\n",
    "x = tf.random.normal(shape=(2, 2))\n",
    "y = tf.sin(x) \n",
    "\n",
    "for i in range(100):\n",
    "    with tf.GradientTape() as tape:\n",
    "        tape.watch(x)\n",
    "        y_pred = model(x)\n",
    "        loss = loss_function(y, y_pred)\n",
    "        grads = tape.gradient(loss, model.trainable_weights) # what to use here to get correct weights\n",
    "        print(grads)\n",
    "        optimizer.apply_gradients(zip(grads, model.trainable_weights))"
   ]
  },
  {
   "cell_type": "code",
   "execution_count": null,
   "id": "52f8d805",
   "metadata": {},
   "outputs": [],
   "source": [
    "class SparseMLP(keras.layers.Layer):\n",
    "    \"\"\"Stack of Linear layers with a sparsity regularization loss.\"\"\"\n",
    "\n",
    "    def __init__(self):\n",
    "        super().__init__()\n",
    "        self.linear_1 = Linear(32)\n",
    "        self.regularization = ActivityRegularization(1e-2)\n",
    "        self.linear_3 = Linear(10)\n",
    "\n",
    "    def call(self, inputs):\n",
    "        x = self.linear_1(inputs)\n",
    "        x = tf.nn.relu(x)\n",
    "        x = self.regularization(x)\n",
    "        return self.linear_3(x)\n",
    "\n",
    "\n",
    "model = SparseMLP()\n",
    "y = model(tf.ones((10, 10)))\n",
    "\n",
    "print(model.losses)  # List containing one float32 scalar\n",
    "\n",
    "(x_train, y_train), _ = keras.datasets.mnist.load_data()\n",
    "dataset = tf.data.Dataset.from_tensor_slices(\n",
    "    (x_train.reshape(60000, 784).astype(\"float32\") / 255, y_train)\n",
    ")\n",
    "dataset = dataset.shuffle(buffer_size=1024).batch(64)"
   ]
  },
  {
   "cell_type": "code",
   "execution_count": null,
   "id": "fe2cd0bc",
   "metadata": {},
   "outputs": [],
   "source": [
    "model.trainable_weights"
   ]
  },
  {
   "cell_type": "code",
   "execution_count": null,
   "id": "039fabdb",
   "metadata": {},
   "outputs": [],
   "source": [
    "loss_function = keras.losses.MeanSquaredError()\n",
    "optimizer = keras.optimizers.Adam(learning_rate=0.00025, clipnorm=1.0)\n",
    "\n",
    "x = tf.random.normal(shape=(2, 2))\n",
    "y = tf.sin(x) \n",
    "\n",
    "for i in dataset:\n",
    "    with tf.GradientTape() as tape:\n",
    "        tape.watch(x)\n",
    "        y_pred = model(x)\n",
    "        loss = loss_function(y, y_pred)\n",
    "        grads = tape.gradient(loss, model.trainable_weights) # what to use here to get correct weights\n",
    "        print(grads)\n",
    "        optimizer.apply_gradients(zip(grads, model.trainable_weights))"
   ]
  },
  {
   "cell_type": "code",
   "execution_count": null,
   "id": "214c58c5",
   "metadata": {},
   "outputs": [],
   "source": []
  }
 ],
 "metadata": {
  "kernelspec": {
   "display_name": "Python 3 (ipykernel)",
   "language": "python",
   "name": "python3"
  },
  "language_info": {
   "codemirror_mode": {
    "name": "ipython",
    "version": 3
   },
   "file_extension": ".py",
   "mimetype": "text/x-python",
   "name": "python",
   "nbconvert_exporter": "python",
   "pygments_lexer": "ipython3",
   "version": "3.10.12"
  }
 },
 "nbformat": 4,
 "nbformat_minor": 5
}
