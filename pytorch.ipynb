{
 "cells": [
  {
   "cell_type": "code",
   "execution_count": 8,
   "id": "efa518a8",
   "metadata": {},
   "outputs": [],
   "source": [
    "import torch\n",
    "import numpy as np\n",
    "import matplotlib.pyplot as plt\n",
    "import math"
   ]
  },
  {
   "cell_type": "code",
   "execution_count": 9,
   "id": "65a2b7a8",
   "metadata": {},
   "outputs": [],
   "source": [
    "#cumulative reward = sum of r_timestep * gamma**(timestep - first timestep) "
   ]
  },
  {
   "cell_type": "code",
   "execution_count": 10,
   "id": "04eb8059",
   "metadata": {},
   "outputs": [],
   "source": [
    "dtype = torch.float\n",
    "x = torch.linspace(-math.pi, math.pi, 2000, dtype=dtype)\n",
    "y = torch.sin(x)"
   ]
  },
  {
   "cell_type": "code",
   "execution_count": 11,
   "id": "de6e9b78",
   "metadata": {},
   "outputs": [],
   "source": [
    "a = torch.randn((), dtype=dtype)\n",
    "b = torch.randn((), dtype=dtype)\n",
    "c = torch.randn((), dtype=dtype)\n",
    "d = torch.randn((), dtype=dtype)"
   ]
  },
  {
   "cell_type": "code",
   "execution_count": 12,
   "id": "3dbcdb5e",
   "metadata": {},
   "outputs": [],
   "source": [
    "lr = 1e-6\n",
    "for t in range(2000):\n",
    "    y_pred = a + b*x + c*x**2 + d*x**3\n",
    "    loss = (y_pred - y).pow(2).sum().item()\n",
    "    grad_y_pred = 2.0*(y_pred - y) #derivative of individual squared diff\n",
    "    grad_a = grad_y_pred.sum()\n",
    "    grad_b = (grad_y_pred * x).sum()\n",
    "    grad_c = (grad_y_pred * x**2).sum()\n",
    "    grad_d = (grad_y_pred * x**3).sum()\n",
    "    \n",
    "    a -= lr*grad_a\n",
    "    b -= lr*grad_b\n",
    "    c -= lr*grad_c\n",
    "    d -= lr*grad_d"
   ]
  },
  {
   "cell_type": "code",
   "execution_count": 13,
   "id": "d030be76",
   "metadata": {},
   "outputs": [
    {
     "name": "stdout",
     "output_type": "stream",
     "text": [
      "Result: y = -0.00876771192997694 + 0.8424534797668457 x + 0.0015125765930861235 x^2 + -0.09129814058542252 x^3\n",
      "tensor([ 0.1903,  0.1844,  0.1786,  ..., -0.1664, -0.1722, -0.1780])\n"
     ]
    }
   ],
   "source": [
    "print(f'Result: y = {a.item()} + {b.item()} x + {c.item()} x^2 + {d.item()} x^3')\n",
    "print(y_pred)"
   ]
  },
  {
   "cell_type": "code",
   "execution_count": 14,
   "id": "5beb74ae",
   "metadata": {},
   "outputs": [],
   "source": [
    "a = torch.randn((), dtype=dtype, requires_grad=True)\n",
    "b = torch.randn((), dtype=dtype, requires_grad=True)\n",
    "c = torch.randn((), dtype=dtype, requires_grad=True)\n",
    "d = torch.randn((), dtype=dtype, requires_grad=True)"
   ]
  },
  {
   "cell_type": "code",
   "execution_count": 15,
   "id": "239ce350",
   "metadata": {},
   "outputs": [
    {
     "name": "stdout",
     "output_type": "stream",
     "text": [
      "99 146.06045532226562\n",
      "199 100.51876068115234\n",
      "299 70.12959289550781\n",
      "399 49.83741760253906\n",
      "499 36.27960968017578\n",
      "599 27.215787887573242\n",
      "699 21.15247917175293\n",
      "799 17.093643188476562\n",
      "899 14.374722480773926\n",
      "999 12.55205249786377\n",
      "1099 11.329307556152344\n",
      "1199 10.508342742919922\n",
      "1299 9.95671558380127\n",
      "1399 9.585732460021973\n",
      "1499 9.336024284362793\n",
      "1599 9.167787551879883\n",
      "1699 9.054356575012207\n",
      "1799 8.977773666381836\n",
      "1899 8.92603588104248\n",
      "1999 8.891046524047852\n"
     ]
    }
   ],
   "source": [
    "lr = 1e-6\n",
    "for t in range(2000):\n",
    "    y_pred = a + b*x + c*x**2 + d*x**3\n",
    "    loss = (y_pred - y).pow(2).sum()\n",
    "    if t % 100 == 99:\n",
    "        print(t, loss.item())\n",
    "    \n",
    "    loss.backward()\n",
    "    \n",
    "    with torch.no_grad():\n",
    "        a -= lr*a.grad\n",
    "        b -= lr*b.grad\n",
    "        c -= lr*c.grad\n",
    "        d -= lr*d.grad\n",
    "        \n",
    "        a.grad = None\n",
    "        b.grad = None\n",
    "        c.grad = None\n",
    "        d.grad = None"
   ]
  },
  {
   "cell_type": "code",
   "execution_count": 16,
   "id": "30c02021",
   "metadata": {},
   "outputs": [
    {
     "name": "stdout",
     "output_type": "stream",
     "text": [
      "Result: y = -0.00567973405122757 + 0.8502136468887329 x + 0.0009798483224585652 x^2 + -0.09240195155143738 x^3\n"
     ]
    }
   ],
   "source": [
    "print(f'Result: y = {a.item()} + {b.item()} x + {c.item()} x^2 + {d.item()} x^3')"
   ]
  },
  {
   "cell_type": "code",
   "execution_count": 17,
   "id": "8866ccee",
   "metadata": {},
   "outputs": [],
   "source": [
    "class ApproxModel(torch.autograd.Function):\n",
    "    @staticmethod\n",
    "    def forward(context, input):\n",
    "        context.save_for_backward(input)\n",
    "        return 0.5*(5*input**3 - 3*input)\n",
    "    \n",
    "    @staticmethod\n",
    "    def backward(context, grad_output):\n",
    "        input, = context.saved_tensors\n",
    "        return grad_output * 1.5 * (5*input**2 - 1)"
   ]
  },
  {
   "cell_type": "code",
   "execution_count": 18,
   "id": "2b24e963",
   "metadata": {},
   "outputs": [],
   "source": [
    "a = torch.full((), 0.0, dtype=dtype, requires_grad=True)\n",
    "b = torch.full((), -1.0, dtype=dtype, requires_grad=True)\n",
    "c = torch.full((), 0.0, dtype=dtype, requires_grad=True)\n",
    "d = torch.full((), 0.3, dtype=dtype, requires_grad=True)"
   ]
  },
  {
   "cell_type": "code",
   "execution_count": 19,
   "id": "95542ad9",
   "metadata": {},
   "outputs": [
    {
     "name": "stdout",
     "output_type": "stream",
     "text": [
      "99 209.95834350585938\n",
      "199 144.66018676757812\n",
      "299 100.70249938964844\n",
      "399 71.03519439697266\n",
      "499 50.97850799560547\n",
      "599 37.403133392333984\n",
      "699 28.206867218017578\n",
      "799 21.97318458557129\n",
      "899 17.745729446411133\n",
      "999 14.877889633178711\n",
      "1099 12.93176555633545\n",
      "1199 11.610918045043945\n",
      "1299 10.714258193969727\n",
      "1399 10.10548210144043\n",
      "1499 9.692106246948242\n",
      "1599 9.411375999450684\n",
      "1699 9.220745086669922\n",
      "1799 9.091286659240723\n",
      "1899 9.003362655639648\n",
      "1999 8.943641662597656\n"
     ]
    }
   ],
   "source": [
    "lr = 5e-6\n",
    "for t in range(2000):\n",
    "    model = ApproxModel().apply\n",
    "    y_pred = a + b*model(c + d*x)\n",
    "    loss = (y_pred - y).pow(2).sum()\n",
    "    if t % 100 == 99:\n",
    "        print(t, loss.item())\n",
    "    \n",
    "    loss.backward()\n",
    "    \n",
    "    with torch.no_grad():\n",
    "        a -= lr*a.grad\n",
    "        b -= lr*b.grad\n",
    "        c -= lr*c.grad\n",
    "        d -= lr*d.grad\n",
    "        \n",
    "        a.grad = None\n",
    "        b.grad = None\n",
    "        c.grad = None\n",
    "        d.grad = None"
   ]
  },
  {
   "cell_type": "code",
   "execution_count": 22,
   "id": "94c37883",
   "metadata": {},
   "outputs": [
    {
     "name": "stdout",
     "output_type": "stream",
     "text": [
      "Result: y = -2.9753338681715036e-10 + -2.208526849746704 * P3(-1.1693186696692948e-10 + 0.2554861009120941 x)\n"
     ]
    }
   ],
   "source": [
    "print(f'Result: y = {a.item()} + {b.item()} * P3({c.item()} + {d.item()} x)')"
   ]
  },
  {
   "cell_type": "code",
   "execution_count": null,
   "id": "85116f41",
   "metadata": {},
   "outputs": [],
   "source": []
  },
  {
   "cell_type": "code",
   "execution_count": null,
   "id": "a29ff1d5",
   "metadata": {},
   "outputs": [],
   "source": []
  },
  {
   "cell_type": "code",
   "execution_count": null,
   "id": "1d12720b",
   "metadata": {},
   "outputs": [],
   "source": []
  },
  {
   "cell_type": "code",
   "execution_count": null,
   "id": "c704246c",
   "metadata": {},
   "outputs": [],
   "source": []
  },
  {
   "cell_type": "code",
   "execution_count": null,
   "id": "5a9edd94",
   "metadata": {},
   "outputs": [],
   "source": []
  }
 ],
 "metadata": {
  "kernelspec": {
   "display_name": "Python 3 (ipykernel)",
   "language": "python",
   "name": "python3"
  },
  "language_info": {
   "codemirror_mode": {
    "name": "ipython",
    "version": 3
   },
   "file_extension": ".py",
   "mimetype": "text/x-python",
   "name": "python",
   "nbconvert_exporter": "python",
   "pygments_lexer": "ipython3",
   "version": "3.10.12"
  }
 },
 "nbformat": 4,
 "nbformat_minor": 5
}
