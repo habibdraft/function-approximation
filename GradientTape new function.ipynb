{
 "cells": [
  {
   "cell_type": "code",
   "execution_count": 7,
   "metadata": {},
   "outputs": [],
   "source": [
    "import tensorflow as tf\n",
    "from tensorflow import keras\n",
    "import matplotlib.pyplot as plt\n",
    "import numpy as np"
   ]
  },
  {
   "cell_type": "code",
   "execution_count": 8,
   "metadata": {},
   "outputs": [
    {
     "name": "stdout",
     "output_type": "stream",
     "text": [
      "tf.Tensor(\n",
      "[[-0.192953    0.54379064]\n",
      " [ 0.5125408  -0.99983335]], shape=(2, 2), dtype=float32)\n"
     ]
    }
   ],
   "source": [
    "a = tf.random.normal(shape=(2, 2))\n",
    "b = tf.random.normal(shape=(2, 2))\n",
    "\n",
    "with tf.GradientTape() as tape:\n",
    "    tape.watch(a) \n",
    "    c = tf.sqrt(tf.square(a) + tf.square(b))  \n",
    "    \n",
    "grads = tape.gradient(c, a)\n",
    "print(grads)"
   ]
  },
  {
   "cell_type": "code",
   "execution_count": 9,
   "metadata": {},
   "outputs": [
    {
     "data": {
      "text/plain": [
       "<tf.Tensor: shape=(2, 2), dtype=float32, numpy=\n",
       "array([[-0.192953  ,  0.54379064],\n",
       "       [ 0.5125408 , -0.99983335]], dtype=float32)>"
      ]
     },
     "execution_count": 9,
     "metadata": {},
     "output_type": "execute_result"
    }
   ],
   "source": [
    "a / tf.sqrt(tf.square(a) + tf.square(b))"
   ]
  },
  {
   "cell_type": "code",
   "execution_count": 10,
   "metadata": {},
   "outputs": [],
   "source": [
    "a = tf.random.uniform(shape=(4,2)) \n",
    "b = tf.random.uniform(shape=(4,2))\n",
    "c = tf.random.uniform(shape=(4,2))\n",
    "d = tf.random.uniform(shape=(4,2))\n",
    "\n",
    "a = tf.Variable(a)\n",
    "b = tf.Variable(b)\n",
    "c = tf.Variable(c)\n",
    "d = tf.Variable(d)"
   ]
  },
  {
   "cell_type": "code",
   "execution_count": 11,
   "metadata": {},
   "outputs": [],
   "source": [
    "x = tf.random.normal(shape=(4,2))"
   ]
  },
  {
   "cell_type": "code",
   "execution_count": 12,
   "metadata": {},
   "outputs": [],
   "source": [
    "loss_function = keras.losses.MeanSquaredError()\n",
    "optimizer = keras.optimizers.SGD(learning_rate=1e-3)\n",
    "\n",
    "for i in range(10000):\n",
    "    with tf.GradientTape() as tape:\n",
    "        tape.watch(x)\n",
    "        y = tf.sqrt(tf.square(a) + tf.square(b))  \n",
    "        y_pred = a + b*x + c*x**2 + d*x**3\n",
    "        loss = loss_function(y_pred, y)\n",
    "        grads = tape.gradient(loss, [a,b,c,d])\n",
    "        optimizer.apply_gradients(zip(grads, [a,b,c,d]))"
   ]
  },
  {
   "cell_type": "code",
   "execution_count": 13,
   "metadata": {},
   "outputs": [
    {
     "name": "stdout",
     "output_type": "stream",
     "text": [
      "tf.Tensor(\n",
      "[[0.23563315 0.6726276 ]\n",
      " [0.22565769 0.62811774]\n",
      " [0.15558577 1.0032578 ]\n",
      " [0.43630648 0.24959707]], shape=(4, 2), dtype=float32) tf.Tensor(\n",
      "[[0.14208224 0.64477146]\n",
      " [0.24787998 0.6281503 ]\n",
      " [0.14645828 1.0032582 ]\n",
      " [0.43630934 0.30422202]], shape=(4, 2), dtype=float32)\n"
     ]
    }
   ],
   "source": [
    "print(y_pred, y)"
   ]
  },
  {
   "cell_type": "code",
   "execution_count": 14,
   "metadata": {},
   "outputs": [
    {
     "data": {
      "text/plain": [
       "<tf.Tensor: shape=(4, 2), dtype=float32, numpy=\n",
       "array([[0.14207996, 0.6447724 ],\n",
       "       [0.24787918, 0.6281503 ],\n",
       "       [0.14645895, 1.0032582 ],\n",
       "       [0.43630934, 0.3042195 ]], dtype=float32)>"
      ]
     },
     "execution_count": 14,
     "metadata": {},
     "output_type": "execute_result"
    }
   ],
   "source": [
    "tf.sqrt(tf.square(a) + tf.square(b))"
   ]
  },
  {
   "cell_type": "code",
   "execution_count": 15,
   "metadata": {},
   "outputs": [],
   "source": [
    "#Recreate the above using Keras linear layers\n",
    "#Create a linear layer"
   ]
  },
  {
   "cell_type": "code",
   "execution_count": null,
   "metadata": {},
   "outputs": [],
   "source": [
    "class Linear(keras.layers.Layer):\n",
    "    \"\"\"y = w.x + b\"\"\"\n",
    "    def __init__():\n",
    "    \n",
    "    def build():\n",
    "    \n",
    "    def call():\n",
    "        "
   ]
  },
  {
   "cell_type": "code",
   "execution_count": null,
   "metadata": {},
   "outputs": [],
   "source": [
    "linear_layer = ...\n",
    "y = linear_layer(...)"
   ]
  }
 ],
 "metadata": {
  "kernelspec": {
   "display_name": "Python 3",
   "language": "python",
   "name": "python3"
  },
  "language_info": {
   "codemirror_mode": {
    "name": "ipython",
    "version": 3
   },
   "file_extension": ".py",
   "mimetype": "text/x-python",
   "name": "python",
   "nbconvert_exporter": "python",
   "pygments_lexer": "ipython3",
   "version": "3.8.5"
  }
 },
 "nbformat": 4,
 "nbformat_minor": 4
}
